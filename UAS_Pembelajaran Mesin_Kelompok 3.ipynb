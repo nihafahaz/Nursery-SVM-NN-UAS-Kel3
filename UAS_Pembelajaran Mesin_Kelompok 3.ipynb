{
 "cells": [
  {
   "cell_type": "markdown",
   "metadata": {},
   "source": [
    "# Klasifikasi Penerimaan Murid Prasekolah menggunakan Support Vector Machine (SVM) dan Neural Network (NN)"
   ]
  },
  {
   "cell_type": "markdown",
   "metadata": {},
   "source": [
    "KELOMPOK 3\n",
    "- 2210511046 Hanifah Az-Zahra\n",
    "- 2210511054 Dinda Cantika Putri\n",
    "- 2210511070 Choirunnisa Zalfaa Nabilah\n",
    "- 2210511072 Edwina Martha Putri"
   ]
  },
  {
   "cell_type": "markdown",
   "metadata": {},
   "source": [
    "## Preprocessing Data"
   ]
  },
  {
   "cell_type": "code",
   "execution_count": 2,
   "metadata": {},
   "outputs": [],
   "source": [
    "import pandas as pd\n",
    "import tensorflow as tf\n",
    "from sklearn.preprocessing import LabelEncoder\n",
    "from sklearn.model_selection import train_test_split\n",
    "from sklearn.preprocessing import StandardScaler\n",
    "from tensorflow.keras.models import Sequential\n",
    "from tensorflow.keras.layers import Dense \n",
    "from sklearn.metrics import accuracy_score, classification_report, confusion_matrix\n",
    "from sklearn.model_selection import StratifiedKFold, cross_val_score"
   ]
  },
  {
   "cell_type": "code",
   "execution_count": 3,
   "metadata": {},
   "outputs": [
    {
     "data": {
      "text/html": [
       "<div>\n",
       "<style scoped>\n",
       "    .dataframe tbody tr th:only-of-type {\n",
       "        vertical-align: middle;\n",
       "    }\n",
       "\n",
       "    .dataframe tbody tr th {\n",
       "        vertical-align: top;\n",
       "    }\n",
       "\n",
       "    .dataframe thead th {\n",
       "        text-align: right;\n",
       "    }\n",
       "</style>\n",
       "<table border=\"1\" class=\"dataframe\">\n",
       "  <thead>\n",
       "    <tr style=\"text-align: right;\">\n",
       "      <th></th>\n",
       "      <th>parents</th>\n",
       "      <th>has_nurs</th>\n",
       "      <th>form</th>\n",
       "      <th>children</th>\n",
       "      <th>housing</th>\n",
       "      <th>finance</th>\n",
       "      <th>social</th>\n",
       "      <th>health</th>\n",
       "      <th>class</th>\n",
       "    </tr>\n",
       "  </thead>\n",
       "  <tbody>\n",
       "    <tr>\n",
       "      <th>0</th>\n",
       "      <td>usual</td>\n",
       "      <td>proper</td>\n",
       "      <td>complete</td>\n",
       "      <td>1</td>\n",
       "      <td>convenient</td>\n",
       "      <td>convenient</td>\n",
       "      <td>nonprob</td>\n",
       "      <td>recommended</td>\n",
       "      <td>recommend</td>\n",
       "    </tr>\n",
       "    <tr>\n",
       "      <th>1</th>\n",
       "      <td>usual</td>\n",
       "      <td>proper</td>\n",
       "      <td>complete</td>\n",
       "      <td>1</td>\n",
       "      <td>convenient</td>\n",
       "      <td>convenient</td>\n",
       "      <td>nonprob</td>\n",
       "      <td>priority</td>\n",
       "      <td>priority</td>\n",
       "    </tr>\n",
       "    <tr>\n",
       "      <th>2</th>\n",
       "      <td>usual</td>\n",
       "      <td>proper</td>\n",
       "      <td>complete</td>\n",
       "      <td>1</td>\n",
       "      <td>convenient</td>\n",
       "      <td>convenient</td>\n",
       "      <td>nonprob</td>\n",
       "      <td>not_recom</td>\n",
       "      <td>not_recom</td>\n",
       "    </tr>\n",
       "    <tr>\n",
       "      <th>3</th>\n",
       "      <td>usual</td>\n",
       "      <td>proper</td>\n",
       "      <td>complete</td>\n",
       "      <td>1</td>\n",
       "      <td>convenient</td>\n",
       "      <td>convenient</td>\n",
       "      <td>slightly_prob</td>\n",
       "      <td>recommended</td>\n",
       "      <td>recommend</td>\n",
       "    </tr>\n",
       "    <tr>\n",
       "      <th>4</th>\n",
       "      <td>usual</td>\n",
       "      <td>proper</td>\n",
       "      <td>complete</td>\n",
       "      <td>1</td>\n",
       "      <td>convenient</td>\n",
       "      <td>convenient</td>\n",
       "      <td>slightly_prob</td>\n",
       "      <td>priority</td>\n",
       "      <td>priority</td>\n",
       "    </tr>\n",
       "  </tbody>\n",
       "</table>\n",
       "</div>"
      ],
      "text/plain": [
       "  parents has_nurs      form children     housing     finance         social  \\\n",
       "0   usual   proper  complete        1  convenient  convenient        nonprob   \n",
       "1   usual   proper  complete        1  convenient  convenient        nonprob   \n",
       "2   usual   proper  complete        1  convenient  convenient        nonprob   \n",
       "3   usual   proper  complete        1  convenient  convenient  slightly_prob   \n",
       "4   usual   proper  complete        1  convenient  convenient  slightly_prob   \n",
       "\n",
       "        health      class  \n",
       "0  recommended  recommend  \n",
       "1     priority   priority  \n",
       "2    not_recom  not_recom  \n",
       "3  recommended  recommend  \n",
       "4     priority   priority  "
      ]
     },
     "execution_count": 3,
     "metadata": {},
     "output_type": "execute_result"
    }
   ],
   "source": [
    "# Menambahkan header\n",
    "headers = [\"parents\", \"has_nurs\", \"form\", \"children\", \"housing\", \"finance\", \"social\", \"health\", \"class\"]\n",
    "df = pd.read_csv('nursery/nursery.data', names=headers)\n",
    "df.head()"
   ]
  },
  {
   "cell_type": "code",
   "execution_count": 4,
   "metadata": {},
   "outputs": [
    {
     "data": {
      "text/html": [
       "<div>\n",
       "<style scoped>\n",
       "    .dataframe tbody tr th:only-of-type {\n",
       "        vertical-align: middle;\n",
       "    }\n",
       "\n",
       "    .dataframe tbody tr th {\n",
       "        vertical-align: top;\n",
       "    }\n",
       "\n",
       "    .dataframe thead th {\n",
       "        text-align: right;\n",
       "    }\n",
       "</style>\n",
       "<table border=\"1\" class=\"dataframe\">\n",
       "  <thead>\n",
       "    <tr style=\"text-align: right;\">\n",
       "      <th></th>\n",
       "      <th>parents</th>\n",
       "      <th>has_nurs</th>\n",
       "      <th>form</th>\n",
       "      <th>children</th>\n",
       "      <th>housing</th>\n",
       "      <th>finance</th>\n",
       "      <th>social</th>\n",
       "      <th>health</th>\n",
       "      <th>class</th>\n",
       "    </tr>\n",
       "  </thead>\n",
       "  <tbody>\n",
       "    <tr>\n",
       "      <th>count</th>\n",
       "      <td>12960</td>\n",
       "      <td>12960</td>\n",
       "      <td>12960</td>\n",
       "      <td>12960</td>\n",
       "      <td>12960</td>\n",
       "      <td>12960</td>\n",
       "      <td>12960</td>\n",
       "      <td>12960</td>\n",
       "      <td>12960</td>\n",
       "    </tr>\n",
       "    <tr>\n",
       "      <th>unique</th>\n",
       "      <td>3</td>\n",
       "      <td>5</td>\n",
       "      <td>4</td>\n",
       "      <td>4</td>\n",
       "      <td>3</td>\n",
       "      <td>2</td>\n",
       "      <td>3</td>\n",
       "      <td>3</td>\n",
       "      <td>5</td>\n",
       "    </tr>\n",
       "    <tr>\n",
       "      <th>top</th>\n",
       "      <td>usual</td>\n",
       "      <td>proper</td>\n",
       "      <td>complete</td>\n",
       "      <td>1</td>\n",
       "      <td>convenient</td>\n",
       "      <td>convenient</td>\n",
       "      <td>nonprob</td>\n",
       "      <td>recommended</td>\n",
       "      <td>not_recom</td>\n",
       "    </tr>\n",
       "    <tr>\n",
       "      <th>freq</th>\n",
       "      <td>4320</td>\n",
       "      <td>2592</td>\n",
       "      <td>3240</td>\n",
       "      <td>3240</td>\n",
       "      <td>4320</td>\n",
       "      <td>6480</td>\n",
       "      <td>4320</td>\n",
       "      <td>4320</td>\n",
       "      <td>4320</td>\n",
       "    </tr>\n",
       "  </tbody>\n",
       "</table>\n",
       "</div>"
      ],
      "text/plain": [
       "       parents has_nurs      form children     housing     finance   social  \\\n",
       "count    12960    12960     12960    12960       12960       12960    12960   \n",
       "unique       3        5         4        4           3           2        3   \n",
       "top      usual   proper  complete        1  convenient  convenient  nonprob   \n",
       "freq      4320     2592      3240     3240        4320        6480     4320   \n",
       "\n",
       "             health      class  \n",
       "count         12960      12960  \n",
       "unique            3          5  \n",
       "top     recommended  not_recom  \n",
       "freq           4320       4320  "
      ]
     },
     "execution_count": 4,
     "metadata": {},
     "output_type": "execute_result"
    }
   ],
   "source": [
    "df.describe()"
   ]
  },
  {
   "cell_type": "code",
   "execution_count": 5,
   "metadata": {},
   "outputs": [
    {
     "name": "stdout",
     "output_type": "stream",
     "text": [
      "<class 'pandas.core.frame.DataFrame'>\n",
      "RangeIndex: 12960 entries, 0 to 12959\n",
      "Data columns (total 9 columns):\n",
      " #   Column    Non-Null Count  Dtype \n",
      "---  ------    --------------  ----- \n",
      " 0   parents   12960 non-null  object\n",
      " 1   has_nurs  12960 non-null  object\n",
      " 2   form      12960 non-null  object\n",
      " 3   children  12960 non-null  object\n",
      " 4   housing   12960 non-null  object\n",
      " 5   finance   12960 non-null  object\n",
      " 6   social    12960 non-null  object\n",
      " 7   health    12960 non-null  object\n",
      " 8   class     12960 non-null  object\n",
      "dtypes: object(9)\n",
      "memory usage: 911.4+ KB\n"
     ]
    }
   ],
   "source": [
    "df.info()"
   ]
  },
  {
   "cell_type": "markdown",
   "metadata": {},
   "source": [
    "*missing value*"
   ]
  },
  {
   "cell_type": "code",
   "execution_count": 6,
   "metadata": {},
   "outputs": [
    {
     "data": {
      "text/plain": [
       "parents     0\n",
       "has_nurs    0\n",
       "form        0\n",
       "children    0\n",
       "housing     0\n",
       "finance     0\n",
       "social      0\n",
       "health      0\n",
       "class       0\n",
       "dtype: int64"
      ]
     },
     "execution_count": 6,
     "metadata": {},
     "output_type": "execute_result"
    }
   ],
   "source": [
    "df.isnull().sum()"
   ]
  },
  {
   "cell_type": "markdown",
   "metadata": {},
   "source": [
    "*duplicate*"
   ]
  },
  {
   "cell_type": "code",
   "execution_count": 7,
   "metadata": {},
   "outputs": [
    {
     "data": {
      "text/plain": [
       "0"
      ]
     },
     "execution_count": 7,
     "metadata": {},
     "output_type": "execute_result"
    }
   ],
   "source": [
    "df.duplicated().sum()"
   ]
  },
  {
   "cell_type": "markdown",
   "metadata": {},
   "source": [
    "*outlier check*"
   ]
  },
  {
   "cell_type": "code",
   "execution_count": 8,
   "metadata": {},
   "outputs": [
    {
     "name": "stdout",
     "output_type": "stream",
     "text": [
      "parents\n",
      "parents\n",
      "usual          4320\n",
      "pretentious    4320\n",
      "great_pret     4320\n",
      "Name: count, dtype: int64\n",
      "\n",
      "\n",
      "has_nurs\n",
      "has_nurs\n",
      "proper         2592\n",
      "less_proper    2592\n",
      "improper       2592\n",
      "critical       2592\n",
      "very_crit      2592\n",
      "Name: count, dtype: int64\n",
      "\n",
      "\n",
      "form\n",
      "form\n",
      "complete      3240\n",
      "completed     3240\n",
      "incomplete    3240\n",
      "foster        3240\n",
      "Name: count, dtype: int64\n",
      "\n",
      "\n",
      "children\n",
      "children\n",
      "1       3240\n",
      "2       3240\n",
      "3       3240\n",
      "more    3240\n",
      "Name: count, dtype: int64\n",
      "\n",
      "\n",
      "housing\n",
      "housing\n",
      "convenient    4320\n",
      "less_conv     4320\n",
      "critical      4320\n",
      "Name: count, dtype: int64\n",
      "\n",
      "\n",
      "finance\n",
      "finance\n",
      "convenient    6480\n",
      "inconv        6480\n",
      "Name: count, dtype: int64\n",
      "\n",
      "\n",
      "social\n",
      "social\n",
      "nonprob          4320\n",
      "slightly_prob    4320\n",
      "problematic      4320\n",
      "Name: count, dtype: int64\n",
      "\n",
      "\n",
      "health\n",
      "health\n",
      "recommended    4320\n",
      "priority       4320\n",
      "not_recom      4320\n",
      "Name: count, dtype: int64\n",
      "\n",
      "\n",
      "class\n",
      "class\n",
      "not_recom     4320\n",
      "priority      4266\n",
      "spec_prior    4044\n",
      "very_recom     328\n",
      "recommend        2\n",
      "Name: count, dtype: int64\n",
      "\n",
      "\n"
     ]
    }
   ],
   "source": [
    "for col in df.columns:\n",
    "    print(col)\n",
    "    print(df[col].value_counts())\n",
    "    print(\"\\n\")"
   ]
  },
  {
   "cell_type": "markdown",
   "metadata": {},
   "source": [
    "*pemilihan kelas dan kolom*"
   ]
  },
  {
   "cell_type": "code",
   "execution_count": 9,
   "metadata": {},
   "outputs": [
    {
     "name": "stdout",
     "output_type": "stream",
     "text": [
      "class\n",
      "not_recom     4320\n",
      "priority      4266\n",
      "spec_prior    4044\n",
      "Name: count, dtype: int64\n"
     ]
    }
   ],
   "source": [
    "# Filter hanya baris dengan class 'not_recom', 'priority' dan 'spec prior'\n",
    "df_pilihan = df[df['class'].isin(['not_recom', 'priority', 'spec_prior'])]\n",
    "\n",
    "# Tampilkan jumlah kelas 'not_recom' dan 'priority'\n",
    "print(df_pilihan['class'].value_counts())"
   ]
  },
  {
   "cell_type": "code",
   "execution_count": 10,
   "metadata": {},
   "outputs": [
    {
     "data": {
      "text/html": [
       "<div>\n",
       "<style scoped>\n",
       "    .dataframe tbody tr th:only-of-type {\n",
       "        vertical-align: middle;\n",
       "    }\n",
       "\n",
       "    .dataframe tbody tr th {\n",
       "        vertical-align: top;\n",
       "    }\n",
       "\n",
       "    .dataframe thead th {\n",
       "        text-align: right;\n",
       "    }\n",
       "</style>\n",
       "<table border=\"1\" class=\"dataframe\">\n",
       "  <thead>\n",
       "    <tr style=\"text-align: right;\">\n",
       "      <th></th>\n",
       "      <th>finance</th>\n",
       "      <th>social</th>\n",
       "      <th>health</th>\n",
       "      <th>class</th>\n",
       "    </tr>\n",
       "  </thead>\n",
       "  <tbody>\n",
       "    <tr>\n",
       "      <th>1</th>\n",
       "      <td>convenient</td>\n",
       "      <td>nonprob</td>\n",
       "      <td>priority</td>\n",
       "      <td>priority</td>\n",
       "    </tr>\n",
       "    <tr>\n",
       "      <th>2</th>\n",
       "      <td>convenient</td>\n",
       "      <td>nonprob</td>\n",
       "      <td>not_recom</td>\n",
       "      <td>not_recom</td>\n",
       "    </tr>\n",
       "    <tr>\n",
       "      <th>4</th>\n",
       "      <td>convenient</td>\n",
       "      <td>slightly_prob</td>\n",
       "      <td>priority</td>\n",
       "      <td>priority</td>\n",
       "    </tr>\n",
       "    <tr>\n",
       "      <th>5</th>\n",
       "      <td>convenient</td>\n",
       "      <td>slightly_prob</td>\n",
       "      <td>not_recom</td>\n",
       "      <td>not_recom</td>\n",
       "    </tr>\n",
       "    <tr>\n",
       "      <th>6</th>\n",
       "      <td>convenient</td>\n",
       "      <td>problematic</td>\n",
       "      <td>recommended</td>\n",
       "      <td>priority</td>\n",
       "    </tr>\n",
       "  </tbody>\n",
       "</table>\n",
       "</div>"
      ],
      "text/plain": [
       "      finance         social       health      class\n",
       "1  convenient        nonprob     priority   priority\n",
       "2  convenient        nonprob    not_recom  not_recom\n",
       "4  convenient  slightly_prob     priority   priority\n",
       "5  convenient  slightly_prob    not_recom  not_recom\n",
       "6  convenient    problematic  recommended   priority"
      ]
     },
     "execution_count": 10,
     "metadata": {},
     "output_type": "execute_result"
    }
   ],
   "source": [
    "# Pilih kolom yang akan digunakan\n",
    "kolom_pilihan = ['finance', 'social', 'health', 'class']\n",
    "df_pilihan = df_pilihan[kolom_pilihan].copy()\n",
    "\n",
    "df_pilihan.head()"
   ]
  },
  {
   "cell_type": "markdown",
   "metadata": {},
   "source": [
    "*encoding*"
   ]
  },
  {
   "cell_type": "code",
   "execution_count": 11,
   "metadata": {},
   "outputs": [
    {
     "data": {
      "text/html": [
       "<div>\n",
       "<style scoped>\n",
       "    .dataframe tbody tr th:only-of-type {\n",
       "        vertical-align: middle;\n",
       "    }\n",
       "\n",
       "    .dataframe tbody tr th {\n",
       "        vertical-align: top;\n",
       "    }\n",
       "\n",
       "    .dataframe thead th {\n",
       "        text-align: right;\n",
       "    }\n",
       "</style>\n",
       "<table border=\"1\" class=\"dataframe\">\n",
       "  <thead>\n",
       "    <tr style=\"text-align: right;\">\n",
       "      <th></th>\n",
       "      <th>finance</th>\n",
       "      <th>social</th>\n",
       "      <th>health</th>\n",
       "      <th>class</th>\n",
       "    </tr>\n",
       "  </thead>\n",
       "  <tbody>\n",
       "    <tr>\n",
       "      <th>1</th>\n",
       "      <td>0</td>\n",
       "      <td>0</td>\n",
       "      <td>1</td>\n",
       "      <td>1</td>\n",
       "    </tr>\n",
       "    <tr>\n",
       "      <th>2</th>\n",
       "      <td>0</td>\n",
       "      <td>0</td>\n",
       "      <td>0</td>\n",
       "      <td>0</td>\n",
       "    </tr>\n",
       "    <tr>\n",
       "      <th>4</th>\n",
       "      <td>0</td>\n",
       "      <td>2</td>\n",
       "      <td>1</td>\n",
       "      <td>1</td>\n",
       "    </tr>\n",
       "    <tr>\n",
       "      <th>5</th>\n",
       "      <td>0</td>\n",
       "      <td>2</td>\n",
       "      <td>0</td>\n",
       "      <td>0</td>\n",
       "    </tr>\n",
       "    <tr>\n",
       "      <th>6</th>\n",
       "      <td>0</td>\n",
       "      <td>1</td>\n",
       "      <td>2</td>\n",
       "      <td>1</td>\n",
       "    </tr>\n",
       "  </tbody>\n",
       "</table>\n",
       "</div>"
      ],
      "text/plain": [
       "   finance  social  health  class\n",
       "1        0       0       1      1\n",
       "2        0       0       0      0\n",
       "4        0       2       1      1\n",
       "5        0       2       0      0\n",
       "6        0       1       2      1"
      ]
     },
     "execution_count": 11,
     "metadata": {},
     "output_type": "execute_result"
    }
   ],
   "source": [
    "le = LabelEncoder()\n",
    "\n",
    "df_pilihan['social'] = le.fit_transform(df_pilihan['social']).astype(int)\n",
    "df_pilihan['finance'] = le.fit_transform(df_pilihan['finance']).astype(int)\n",
    "df_pilihan['health'] = le.fit_transform(df_pilihan['health']).astype(int)\n",
    "df_pilihan['class'] = le.fit_transform(df_pilihan['class']).astype(int)\n",
    "\n",
    "df_pilihan.head()"
   ]
  },
  {
   "cell_type": "markdown",
   "metadata": {},
   "source": [
    "*splitting*"
   ]
  },
  {
   "cell_type": "code",
   "execution_count": 13,
   "metadata": {},
   "outputs": [
    {
     "name": "stdout",
     "output_type": "stream",
     "text": [
      "Data Training:  (10104, 3)\n",
      "Data Testing:  (2526, 3)\n"
     ]
    }
   ],
   "source": [
    "X = df_pilihan[['social', 'finance', 'health']]\n",
    "y = df_pilihan['class']\n",
    "\n",
    "X_train, X_test, y_train, y_test = train_test_split(X, y, test_size=0.2, random_state=42)\n",
    "\n",
    "print(\"Data Training: \", X_train.shape)\n",
    "print(\"Data Testing: \", X_test.shape)"
   ]
  },
  {
   "cell_type": "markdown",
   "metadata": {},
   "source": [
    "*Modeling Evaluasi*"
   ]
  },
  {
   "cell_type": "code",
   "execution_count": 14,
   "metadata": {},
   "outputs": [],
   "source": [
    "from sklearn.svm import SVC\n",
    "\n",
    "svm_model = SVC(kernel='linear', decision_function_shape='ovo')\n",
    "svm_model.fit(X_train, y_train)\n",
    "svm_predict = svm_model.predict(X_test)"
   ]
  },
  {
   "cell_type": "code",
   "execution_count": 15,
   "metadata": {},
   "outputs": [],
   "source": [
    "df_hasil = X_test.copy()\n",
    "df_hasil['Label asli'] = y_test.values\n",
    "df_hasil['Label prediksi'] = svm_predict"
   ]
  },
  {
   "cell_type": "code",
   "execution_count": 16,
   "metadata": {},
   "outputs": [
    {
     "name": "stdout",
     "output_type": "stream",
     "text": [
      "       social  finance  health  Label asli  Label prediksi  Prediksi benar\n",
      "9234        0        0       2           1               1            True\n",
      "11965       2        1       1           2               2            True\n",
      "4530        2        1       2           1               1            True\n",
      "11732       2        1       0           0               0            True\n",
      "8441        1        1       0           0               0            True\n",
      "11107       0        0       1           2               2            True\n",
      "7272        0        0       2           2               1           False\n",
      "12532       2        0       1           2               2            True\n",
      "1057        2        1       1           1               2           False\n",
      "1707        1        1       2           1               1            True\n",
      "1817        1        1       0           0               0            True\n",
      "8152        1        1       1           2               2            True\n",
      "10081       0        0       1           2               2            True\n",
      "11493       0        1       2           2               1           False\n",
      "10460       0        0       0           0               0            True\n",
      "12347       1        1       0           0               0            True\n",
      "8591        2        0       0           0               0            True\n",
      "2464        1        1       1           1               2           False\n",
      "5532        1        0       2           1               1            True\n",
      "3324        2        1       2           1               1            True\n",
      "Jumlah hasil prediksi yang benar adalah 1836\n"
     ]
    }
   ],
   "source": [
    "df_hasil['Prediksi benar'] = df_hasil['Label asli'] == df_hasil['Label prediksi']\n",
    "prediksi_benar = df_hasil['Prediksi benar'].sum()\n",
    "\n",
    "print(df_hasil.head(20))\n",
    "print(f'Jumlah hasil prediksi yang benar adalah {prediksi_benar}')"
   ]
  },
  {
   "cell_type": "code",
   "execution_count": 17,
   "metadata": {},
   "outputs": [],
   "source": [
    "# df_hasil.to_csv('Hasil_prediksiSVM_Linear.csv', index='False')"
   ]
  },
  {
   "cell_type": "code",
   "execution_count": 18,
   "metadata": {},
   "outputs": [
    {
     "name": "stdout",
     "output_type": "stream",
     "text": [
      "Accuracy Score: 0.7268408551068883\n",
      "Classification Report:\n",
      "               precision    recall  f1-score   support\n",
      "\n",
      "           0       1.00      1.00      1.00       896\n",
      "           1       0.61      0.55      0.58       861\n",
      "           2       0.55      0.60      0.57       769\n",
      "\n",
      "    accuracy                           0.73      2526\n",
      "   macro avg       0.72      0.72      0.72      2526\n",
      "weighted avg       0.73      0.73      0.73      2526\n",
      "\n",
      "Confusion Matrix:\n",
      " [[896   0   0]\n",
      " [  0 476 385]\n",
      " [  0 305 464]]\n"
     ]
    }
   ],
   "source": [
    "from sklearn.metrics import accuracy_score, classification_report, confusion_matrix\n",
    "\n",
    "print(f\"Accuracy Score: {accuracy_score(y_test, svm_predict)}\")\n",
    "print(f\"Classification Report:\\n {classification_report(y_test, svm_predict)}\")\n",
    "print(f\"Confusion Matrix:\\n {confusion_matrix(y_test, svm_predict)}\")"
   ]
  },
  {
   "cell_type": "code",
   "execution_count": 19,
   "metadata": {},
   "outputs": [
    {
     "name": "stdout",
     "output_type": "stream",
     "text": [
      "Cross Validation Score:  [0.68923199 0.70190024 0.72961203 0.7442597  0.77632621]\n",
      "Rata Rata Accuracy: 0.73\n",
      "Standar Deviasi: 0.03\n"
     ]
    }
   ],
   "source": [
    "from sklearn.model_selection import StratifiedKFold, cross_val_score\n",
    "\n",
    "sk_fold = StratifiedKFold(n_splits=5)\n",
    "scores = cross_val_score(svm_model, X, y, cv=sk_fold)\n",
    "\n",
    "print(f\"Cross Validation Score: \", scores)\n",
    "print(f\"Rata Rata Accuracy: {scores.mean():.2f}\")\n",
    "print(f\"Standar Deviasi: {scores.std():.2f}\")"
   ]
  },
  {
   "cell_type": "code",
   "execution_count": 20,
   "metadata": {},
   "outputs": [],
   "source": [
    "from sklearn.svm import SVC\n",
    "\n",
    "svm_modelrbf = SVC(kernel='rbf', decision_function_shape='ovo')\n",
    "svm_modelrbf.fit(X_train, y_train)\n",
    "svm_predrbf = svm_modelrbf.predict(X_test)"
   ]
  },
  {
   "cell_type": "code",
   "execution_count": 21,
   "metadata": {},
   "outputs": [],
   "source": [
    "df_hasilrbf = X_test.copy()\n",
    "df_hasilrbf['Label asli'] = y_test.values\n",
    "df_hasilrbf['Label prediksi'] = svm_predrbf"
   ]
  },
  {
   "cell_type": "code",
   "execution_count": 22,
   "metadata": {},
   "outputs": [
    {
     "name": "stdout",
     "output_type": "stream",
     "text": [
      "       social  finance  health  Label asli  Label prediksi  Prediksi benar\n",
      "9234        0        0       2           1               1            True\n",
      "11965       2        1       1           2               2            True\n",
      "4530        2        1       2           1               1            True\n",
      "11732       2        1       0           0               0            True\n",
      "8441        1        1       0           0               0            True\n",
      "11107       0        0       1           2               2            True\n",
      "7272        0        0       2           2               1           False\n",
      "12532       2        0       1           2               2            True\n",
      "1057        2        1       1           1               2           False\n",
      "1707        1        1       2           1               2           False\n",
      "1817        1        1       0           0               0            True\n",
      "8152        1        1       1           2               2            True\n",
      "10081       0        0       1           2               2            True\n",
      "11493       0        1       2           2               1           False\n",
      "10460       0        0       0           0               0            True\n",
      "12347       1        1       0           0               0            True\n",
      "8591        2        0       0           0               0            True\n",
      "2464        1        1       1           1               2           False\n",
      "5532        1        0       2           1               2           False\n",
      "3324        2        1       2           1               1            True\n",
      "Jumlah hasil prediksi yang benar adalah 1866\n"
     ]
    }
   ],
   "source": [
    "df_hasilrbf['Prediksi benar'] = df_hasilrbf['Label asli'] == df_hasilrbf['Label prediksi']\n",
    "prediksi_benarrbf = df_hasilrbf['Prediksi benar'].sum()\n",
    "\n",
    "print(df_hasilrbf.head(20))\n",
    "print(f'Jumlah hasil prediksi yang benar adalah {prediksi_benarrbf}')"
   ]
  },
  {
   "cell_type": "code",
   "execution_count": 23,
   "metadata": {},
   "outputs": [],
   "source": [
    "# df_hasilrbf.to_csv('Hasil_prediksiSVM_rbf.csv', index='False')"
   ]
  },
  {
   "cell_type": "code",
   "execution_count": 24,
   "metadata": {},
   "outputs": [
    {
     "name": "stdout",
     "output_type": "stream",
     "text": [
      "Accuracy Score: 0.7387173396674585\n",
      "Classification Report:\n",
      "               precision    recall  f1-score   support\n",
      "\n",
      "           0       1.00      1.00      1.00       896\n",
      "           1       0.70      0.41      0.51       861\n",
      "           2       0.55      0.81      0.65       769\n",
      "\n",
      "    accuracy                           0.74      2526\n",
      "   macro avg       0.75      0.74      0.72      2526\n",
      "weighted avg       0.76      0.74      0.73      2526\n",
      "\n",
      "Confusion Matrix:\n",
      " [[896   0   0]\n",
      " [  0 349 512]\n",
      " [  0 148 621]]\n"
     ]
    }
   ],
   "source": [
    "print(f\"Accuracy Score: {accuracy_score(y_test, svm_predrbf)}\")\n",
    "print(f\"Classification Report:\\n {classification_report(y_test, svm_predrbf)}\")\n",
    "print(f\"Confusion Matrix:\\n {confusion_matrix(y_test, svm_predrbf)}\")"
   ]
  },
  {
   "cell_type": "code",
   "execution_count": 25,
   "metadata": {},
   "outputs": [
    {
     "name": "stdout",
     "output_type": "stream",
     "text": [
      "Cross Validation Score:  [0.69200317 0.70942201 0.746635   0.76524149 0.8087886 ]\n",
      "Rata Rata Accuracy: 0.74\n",
      "Standar Deviasi: 0.04\n"
     ]
    }
   ],
   "source": [
    "sk_fold = StratifiedKFold(n_splits=5)\n",
    "scores = cross_val_score(svm_modelrbf, X, y, cv=sk_fold)\n",
    "\n",
    "print(f\"Cross Validation Score: \", scores)\n",
    "print(f\"Rata Rata Accuracy: {scores.mean():.2f}\")\n",
    "print(f\"Standar Deviasi: {scores.std():.2f}\")"
   ]
  },
  {
   "cell_type": "markdown",
   "metadata": {},
   "source": [
    "*Menyimpan model ke pickle*"
   ]
  },
  {
   "cell_type": "code",
   "execution_count": 26,
   "metadata": {},
   "outputs": [],
   "source": [
    "# import pickle\n",
    "\n",
    "# pickle.dump(svm_model, open('linear_model', 'wb'))"
   ]
  },
  {
   "cell_type": "code",
   "execution_count": 27,
   "metadata": {},
   "outputs": [],
   "source": [
    "# loaded_model_linear = pickle.load(open('linear_model', 'rb'))\n",
    "# result_linear = loaded_model_linear.score(X_test, y_test)\n",
    "# print(result_linear)"
   ]
  },
  {
   "cell_type": "code",
   "execution_count": 28,
   "metadata": {},
   "outputs": [],
   "source": [
    "# pickle.dump(svm_modelrbf, open('rbf_model', 'wb'))"
   ]
  },
  {
   "cell_type": "code",
   "execution_count": 29,
   "metadata": {},
   "outputs": [],
   "source": [
    "# loaded_model_rbf = pickle.load(open('rbf_model', 'rb'))\n",
    "# result_rbf = loaded_model_rbf.score(X_test, y_test)\n",
    "# print(result_rbf)"
   ]
  },
  {
   "cell_type": "markdown",
   "metadata": {},
   "source": [
    "*Visualisasi*"
   ]
  },
  {
   "cell_type": "code",
   "execution_count": 30,
   "metadata": {},
   "outputs": [],
   "source": [
    "# import numpy as np\n",
    "# import matplotlib.pyplot as plt\n",
    "# from sklearn.decomposition import PCA\n",
    "\n",
    "# # Kurangi dimensi untuk visualisasi (2D) dengan PCA\n",
    "# pca = PCA(n_components=2)\n",
    "# X_train_pca = pca.fit_transform(X_train)\n",
    "# X_test_pca = pca.transform(X_test)\n",
    "\n",
    "# # Visualisasi SVM pada data training\n",
    "# def plot_pca_decision_boundary(X, y, model):\n",
    "#     x_min, x_max = X[:, 0].min() - 1, X[:, 0].max() + 1\n",
    "#     y_min, y_max = X[:, 1].min() - 1, X[:, 1].max() + 1 \n",
    "#     xx, yy = np.meshgrid(np.arange(x_min, x_max, 0.02), np.arange(y_min, y_max, 0.02))\n",
    "    \n",
    "#     # Prediksi model pada tiap titik meshgrid\n",
    "#     Z = model.predict(pca.inverse_transform(np.c_[xx.ravel(), yy.ravel()]))\n",
    "#     Z = Z.reshape(xx.shape)\n",
    "\n",
    "#     # Hasil plot area keputusan\n",
    "#     plt.contourf(xx, yy, Z, alpha=0.8, cmap=plt.cm.coolwarm)\n",
    "\n",
    "#     # Plot data training\n",
    "#     plt.scatter(X[:, 0], X[:, 1], c=y, edgecolors='k', cmap=plt.cm.coolwarm)\n",
    "#     plt.xlabel('Komponen PCA 1') # namanya ganti\n",
    "#     plt.ylabel('Komponen PCA 2')\n",
    "#     plt.title('Visualisasi Batas SVM Dataset Nursery')\n",
    "#     plt.show()\n",
    "\n",
    "# # Panggil fungsi untuk memvisualisasikan dengan model SVM terlatih\n",
    "# plot_pca_decision_boundary(X_train_pca, y_train,svm_model)"
   ]
  },
  {
   "cell_type": "code",
   "execution_count": 31,
   "metadata": {},
   "outputs": [],
   "source": [
    "# import numpy as np\n",
    "# import matplotlib.pyplot as plt\n",
    "# from sklearn.decomposition import PCA\n",
    "# from sklearn.svm import SVC\n",
    "\n",
    "# # Kurangi dimensi untuk visualisasi (2D) dengan PCA\n",
    "# pca = PCA(n_components=2)\n",
    "# X_train_pca = pca.fit_transform(X_train)\n",
    "# X_test_pca = pca.transform(X_test)\n",
    "\n",
    "# # Melatih model SVM dengan kernel RBF\n",
    "# svm_model_rbf = SVC(kernel='rbf', gamma='auto')\n",
    "# svm_model_rbf.fit(X_train, y_train)\n",
    "\n",
    "# # Visualisasi SVM dengan boundary keputusan\n",
    "# def plot_pca_decision_boundary(X, y, model):\n",
    "#     x_min, x_max = X[:, 0].min() - 1, X[:, 0].max() + 1\n",
    "#     y_min, y_max = X[:, 1].min() - 1, X[:, 1].max() + 1 \n",
    "#     xx, yy = np.meshgrid(np.arange(x_min, x_max, 0.02), np.arange(y_min, y_max, 0.02))\n",
    "    \n",
    "#     # Prediksi model pada tiap titik meshgrid\n",
    "#     Z = model.predict(pca.inverse_transform(np.c_[xx.ravel(), yy.ravel()]))\n",
    "#     Z = Z.reshape(xx.shape)\n",
    "\n",
    "#     # Plot area keputusan\n",
    "#     plt.contourf(xx, yy, Z, alpha=0.8, cmap=plt.cm.coolwarm)\n",
    "\n",
    "#     # Plot data latih\n",
    "#     plt.scatter(X[:, 0], X[:, 1], c=y, edgecolors='k', cmap=plt.cm.coolwarm)\n",
    "#     plt.xlabel('Komponen PCA 1')\n",
    "#     plt.ylabel('Komponen PCA 2')\n",
    "#     plt.title('Visualisasi Batas Keputusan SVM dengan Kernel RBF')\n",
    "#     plt.show()\n",
    "\n",
    "# # Memanggil fungsi untuk memvisualisasikan dengan model SVM terlatih\n",
    "# plot_pca_decision_boundary(X_train_pca, y_train,svm_modelrbf)"
   ]
  },
  {
   "cell_type": "markdown",
   "metadata": {},
   "source": [
    "## Modelling NN"
   ]
  },
  {
   "cell_type": "code",
   "execution_count": 32,
   "metadata": {},
   "outputs": [],
   "source": [
    "from tensorflow.keras.utils import to_categorical\n",
    "y_train_ann = y_train.copy()\n",
    "y_train_ann = to_categorical(y_train_ann, num_classes=3)\n",
    "y_test_ann = y_test.copy()\n",
    "y_test_ann = to_categorical(y_test_ann, num_classes=3)"
   ]
  },
  {
   "cell_type": "code",
   "execution_count": 33,
   "metadata": {},
   "outputs": [
    {
     "name": "stdout",
     "output_type": "stream",
     "text": [
      "Dimensi data :\n",
      "\n",
      "X train \t X test \t Y train \t Y test\n",
      "(10104, 3) \t (2526, 3) \t (10104, 3) \t (2526, 3)\n"
     ]
    }
   ],
   "source": [
    "print(\"Dimensi data :\\n\")\n",
    "print(\"X train \\t X test \\t Y train \\t Y test\")  \n",
    "print(\"%s \\t %s \\t %s \\t %s\" % (X_train.shape, X_test.shape, y_train_ann.shape, y_test_ann.shape))"
   ]
  },
  {
   "cell_type": "code",
   "execution_count": 34,
   "metadata": {},
   "outputs": [
    {
     "name": "stderr",
     "output_type": "stream",
     "text": [
      "C:\\Users\\edwin\\AppData\\Local\\Packages\\PythonSoftwareFoundation.Python.3.10_qbz5n2kfra8p0\\LocalCache\\local-packages\\Python310\\site-packages\\keras\\src\\layers\\core\\dense.py:87: UserWarning: Do not pass an `input_shape`/`input_dim` argument to a layer. When using Sequential models, prefer using an `Input(shape)` object as the first layer in the model instead.\n",
      "  super().__init__(activity_regularizer=activity_regularizer, **kwargs)\n"
     ]
    }
   ],
   "source": [
    "modelANN = Sequential()\n",
    "modelANN.add(Dense(6, activation='relu', input_dim=X_train.shape[1]))\n",
    "modelANN.add(Dense(3, activation='relu'))\n",
    "modelANN.add(Dense(3, activation='softmax'))"
   ]
  },
  {
   "cell_type": "code",
   "execution_count": 35,
   "metadata": {},
   "outputs": [],
   "source": [
    "modelANN.compile(optimizer='adam', \n",
    "              loss='categorical_crossentropy', \n",
    "              metrics=['accuracy'])"
   ]
  },
  {
   "cell_type": "code",
   "execution_count": 36,
   "metadata": {},
   "outputs": [
    {
     "name": "stdout",
     "output_type": "stream",
     "text": [
      "Epoch 1/50\n",
      "\u001b[1m253/253\u001b[0m \u001b[32m━━━━━━━━━━━━━━━━━━━━\u001b[0m\u001b[37m\u001b[0m \u001b[1m3s\u001b[0m 5ms/step - accuracy: 0.5214 - loss: 1.0541 - val_accuracy: 0.7006 - val_loss: 0.9040\n",
      "Epoch 2/50\n",
      "\u001b[1m253/253\u001b[0m \u001b[32m━━━━━━━━━━━━━━━━━━━━\u001b[0m\u001b[37m\u001b[0m \u001b[1m1s\u001b[0m 3ms/step - accuracy: 0.7105 - loss: 0.8501 - val_accuracy: 0.6823 - val_loss: 0.7251\n",
      "Epoch 3/50\n",
      "\u001b[1m253/253\u001b[0m \u001b[32m━━━━━━━━━━━━━━━━━━━━\u001b[0m\u001b[37m\u001b[0m \u001b[1m1s\u001b[0m 3ms/step - accuracy: 0.6863 - loss: 0.7013 - val_accuracy: 0.6962 - val_loss: 0.6411\n",
      "Epoch 4/50\n",
      "\u001b[1m253/253\u001b[0m \u001b[32m━━━━━━━━━━━━━━━━━━━━\u001b[0m\u001b[37m\u001b[0m \u001b[1m1s\u001b[0m 3ms/step - accuracy: 0.7035 - loss: 0.6246 - val_accuracy: 0.7264 - val_loss: 0.5913\n",
      "Epoch 5/50\n",
      "\u001b[1m253/253\u001b[0m \u001b[32m━━━━━━━━━━━━━━━━━━━━\u001b[0m\u001b[37m\u001b[0m \u001b[1m1s\u001b[0m 3ms/step - accuracy: 0.7268 - loss: 0.5786 - val_accuracy: 0.7081 - val_loss: 0.5569\n",
      "Epoch 6/50\n",
      "\u001b[1m253/253\u001b[0m \u001b[32m━━━━━━━━━━━━━━━━━━━━\u001b[0m\u001b[37m\u001b[0m \u001b[1m1s\u001b[0m 3ms/step - accuracy: 0.7173 - loss: 0.5529 - val_accuracy: 0.7264 - val_loss: 0.5345\n",
      "Epoch 7/50\n",
      "\u001b[1m253/253\u001b[0m \u001b[32m━━━━━━━━━━━━━━━━━━━━\u001b[0m\u001b[37m\u001b[0m \u001b[1m1s\u001b[0m 3ms/step - accuracy: 0.7222 - loss: 0.5250 - val_accuracy: 0.7264 - val_loss: 0.5197\n",
      "Epoch 8/50\n",
      "\u001b[1m253/253\u001b[0m \u001b[32m━━━━━━━━━━━━━━━━━━━━\u001b[0m\u001b[37m\u001b[0m \u001b[1m1s\u001b[0m 5ms/step - accuracy: 0.7373 - loss: 0.5068 - val_accuracy: 0.7264 - val_loss: 0.5057\n",
      "Epoch 9/50\n",
      "\u001b[1m253/253\u001b[0m \u001b[32m━━━━━━━━━━━━━━━━━━━━\u001b[0m\u001b[37m\u001b[0m \u001b[1m1s\u001b[0m 4ms/step - accuracy: 0.7268 - loss: 0.5004 - val_accuracy: 0.7264 - val_loss: 0.4993\n",
      "Epoch 10/50\n",
      "\u001b[1m253/253\u001b[0m \u001b[32m━━━━━━━━━━━━━━━━━━━━\u001b[0m\u001b[37m\u001b[0m \u001b[1m1s\u001b[0m 3ms/step - accuracy: 0.7235 - loss: 0.4929 - val_accuracy: 0.7264 - val_loss: 0.4927\n",
      "Epoch 11/50\n",
      "\u001b[1m253/253\u001b[0m \u001b[32m━━━━━━━━━━━━━━━━━━━━\u001b[0m\u001b[37m\u001b[0m \u001b[1m1s\u001b[0m 3ms/step - accuracy: 0.7251 - loss: 0.4859 - val_accuracy: 0.7264 - val_loss: 0.4840\n",
      "Epoch 12/50\n",
      "\u001b[1m253/253\u001b[0m \u001b[32m━━━━━━━━━━━━━━━━━━━━\u001b[0m\u001b[37m\u001b[0m \u001b[1m1s\u001b[0m 3ms/step - accuracy: 0.7250 - loss: 0.4820 - val_accuracy: 0.7264 - val_loss: 0.4792\n",
      "Epoch 13/50\n",
      "\u001b[1m253/253\u001b[0m \u001b[32m━━━━━━━━━━━━━━━━━━━━\u001b[0m\u001b[37m\u001b[0m \u001b[1m2s\u001b[0m 6ms/step - accuracy: 0.7243 - loss: 0.4774 - val_accuracy: 0.7264 - val_loss: 0.4764\n",
      "Epoch 14/50\n",
      "\u001b[1m253/253\u001b[0m \u001b[32m━━━━━━━━━━━━━━━━━━━━\u001b[0m\u001b[37m\u001b[0m \u001b[1m3s\u001b[0m 8ms/step - accuracy: 0.7280 - loss: 0.4678 - val_accuracy: 0.7264 - val_loss: 0.4734\n",
      "Epoch 15/50\n",
      "\u001b[1m253/253\u001b[0m \u001b[32m━━━━━━━━━━━━━━━━━━━━\u001b[0m\u001b[37m\u001b[0m \u001b[1m2s\u001b[0m 7ms/step - accuracy: 0.7242 - loss: 0.4657 - val_accuracy: 0.7264 - val_loss: 0.4709\n",
      "Epoch 16/50\n",
      "\u001b[1m253/253\u001b[0m \u001b[32m━━━━━━━━━━━━━━━━━━━━\u001b[0m\u001b[37m\u001b[0m \u001b[1m2s\u001b[0m 9ms/step - accuracy: 0.7326 - loss: 0.4611 - val_accuracy: 0.7264 - val_loss: 0.4687\n",
      "Epoch 17/50\n",
      "\u001b[1m253/253\u001b[0m \u001b[32m━━━━━━━━━━━━━━━━━━━━\u001b[0m\u001b[37m\u001b[0m \u001b[1m2s\u001b[0m 8ms/step - accuracy: 0.7262 - loss: 0.4604 - val_accuracy: 0.7264 - val_loss: 0.4665\n",
      "Epoch 18/50\n",
      "\u001b[1m253/253\u001b[0m \u001b[32m━━━━━━━━━━━━━━━━━━━━\u001b[0m\u001b[37m\u001b[0m \u001b[1m3s\u001b[0m 10ms/step - accuracy: 0.7339 - loss: 0.4555 - val_accuracy: 0.7264 - val_loss: 0.4649\n",
      "Epoch 19/50\n",
      "\u001b[1m253/253\u001b[0m \u001b[32m━━━━━━━━━━━━━━━━━━━━\u001b[0m\u001b[37m\u001b[0m \u001b[1m2s\u001b[0m 8ms/step - accuracy: 0.7389 - loss: 0.4500 - val_accuracy: 0.7264 - val_loss: 0.4646\n",
      "Epoch 20/50\n",
      "\u001b[1m253/253\u001b[0m \u001b[32m━━━━━━━━━━━━━━━━━━━━\u001b[0m\u001b[37m\u001b[0m \u001b[1m2s\u001b[0m 9ms/step - accuracy: 0.7269 - loss: 0.4567 - val_accuracy: 0.7264 - val_loss: 0.4617\n",
      "Epoch 21/50\n",
      "\u001b[1m253/253\u001b[0m \u001b[32m━━━━━━━━━━━━━━━━━━━━\u001b[0m\u001b[37m\u001b[0m \u001b[1m2s\u001b[0m 9ms/step - accuracy: 0.7305 - loss: 0.4563 - val_accuracy: 0.7264 - val_loss: 0.4624\n",
      "Epoch 22/50\n",
      "\u001b[1m253/253\u001b[0m \u001b[32m━━━━━━━━━━━━━━━━━━━━\u001b[0m\u001b[37m\u001b[0m \u001b[1m2s\u001b[0m 8ms/step - accuracy: 0.7330 - loss: 0.4493 - val_accuracy: 0.7264 - val_loss: 0.4606\n",
      "Epoch 23/50\n",
      "\u001b[1m253/253\u001b[0m \u001b[32m━━━━━━━━━━━━━━━━━━━━\u001b[0m\u001b[37m\u001b[0m \u001b[1m1s\u001b[0m 4ms/step - accuracy: 0.7314 - loss: 0.4526 - val_accuracy: 0.7264 - val_loss: 0.4615\n",
      "Epoch 24/50\n",
      "\u001b[1m253/253\u001b[0m \u001b[32m━━━━━━━━━━━━━━━━━━━━\u001b[0m\u001b[37m\u001b[0m \u001b[1m1s\u001b[0m 4ms/step - accuracy: 0.7292 - loss: 0.4486 - val_accuracy: 0.7264 - val_loss: 0.4583\n",
      "Epoch 25/50\n",
      "\u001b[1m253/253\u001b[0m \u001b[32m━━━━━━━━━━━━━━━━━━━━\u001b[0m\u001b[37m\u001b[0m \u001b[1m1s\u001b[0m 5ms/step - accuracy: 0.7274 - loss: 0.4529 - val_accuracy: 0.7264 - val_loss: 0.4594\n",
      "Epoch 26/50\n",
      "\u001b[1m253/253\u001b[0m \u001b[32m━━━━━━━━━━━━━━━━━━━━\u001b[0m\u001b[37m\u001b[0m \u001b[1m1s\u001b[0m 4ms/step - accuracy: 0.7256 - loss: 0.4491 - val_accuracy: 0.7264 - val_loss: 0.4571\n",
      "Epoch 27/50\n",
      "\u001b[1m253/253\u001b[0m \u001b[32m━━━━━━━━━━━━━━━━━━━━\u001b[0m\u001b[37m\u001b[0m \u001b[1m1s\u001b[0m 4ms/step - accuracy: 0.7310 - loss: 0.4498 - val_accuracy: 0.7264 - val_loss: 0.4570\n",
      "Epoch 28/50\n",
      "\u001b[1m253/253\u001b[0m \u001b[32m━━━━━━━━━━━━━━━━━━━━\u001b[0m\u001b[37m\u001b[0m \u001b[1m1s\u001b[0m 4ms/step - accuracy: 0.7255 - loss: 0.4509 - val_accuracy: 0.7264 - val_loss: 0.4561\n",
      "Epoch 29/50\n",
      "\u001b[1m253/253\u001b[0m \u001b[32m━━━━━━━━━━━━━━━━━━━━\u001b[0m\u001b[37m\u001b[0m \u001b[1m1s\u001b[0m 3ms/step - accuracy: 0.7320 - loss: 0.4486 - val_accuracy: 0.7264 - val_loss: 0.4592\n",
      "Epoch 30/50\n",
      "\u001b[1m253/253\u001b[0m \u001b[32m━━━━━━━━━━━━━━━━━━━━\u001b[0m\u001b[37m\u001b[0m \u001b[1m1s\u001b[0m 3ms/step - accuracy: 0.7326 - loss: 0.4469 - val_accuracy: 0.7264 - val_loss: 0.4560\n",
      "Epoch 31/50\n",
      "\u001b[1m253/253\u001b[0m \u001b[32m━━━━━━━━━━━━━━━━━━━━\u001b[0m\u001b[37m\u001b[0m \u001b[1m2s\u001b[0m 6ms/step - accuracy: 0.7213 - loss: 0.4548 - val_accuracy: 0.7264 - val_loss: 0.4574\n",
      "Epoch 32/50\n",
      "\u001b[1m253/253\u001b[0m \u001b[32m━━━━━━━━━━━━━━━━━━━━\u001b[0m\u001b[37m\u001b[0m \u001b[1m3s\u001b[0m 8ms/step - accuracy: 0.7390 - loss: 0.4440 - val_accuracy: 0.7264 - val_loss: 0.4559\n",
      "Epoch 33/50\n",
      "\u001b[1m253/253\u001b[0m \u001b[32m━━━━━━━━━━━━━━━━━━━━\u001b[0m\u001b[37m\u001b[0m \u001b[1m2s\u001b[0m 8ms/step - accuracy: 0.7211 - loss: 0.4532 - val_accuracy: 0.7264 - val_loss: 0.4592\n",
      "Epoch 34/50\n",
      "\u001b[1m253/253\u001b[0m \u001b[32m━━━━━━━━━━━━━━━━━━━━\u001b[0m\u001b[37m\u001b[0m \u001b[1m3s\u001b[0m 10ms/step - accuracy: 0.7318 - loss: 0.4496 - val_accuracy: 0.7264 - val_loss: 0.4568\n",
      "Epoch 35/50\n",
      "\u001b[1m253/253\u001b[0m \u001b[32m━━━━━━━━━━━━━━━━━━━━\u001b[0m\u001b[37m\u001b[0m \u001b[1m3s\u001b[0m 10ms/step - accuracy: 0.7304 - loss: 0.4464 - val_accuracy: 0.7264 - val_loss: 0.4553\n",
      "Epoch 36/50\n",
      "\u001b[1m253/253\u001b[0m \u001b[32m━━━━━━━━━━━━━━━━━━━━\u001b[0m\u001b[37m\u001b[0m \u001b[1m2s\u001b[0m 6ms/step - accuracy: 0.7285 - loss: 0.4455 - val_accuracy: 0.7264 - val_loss: 0.4553\n",
      "Epoch 37/50\n",
      "\u001b[1m253/253\u001b[0m \u001b[32m━━━━━━━━━━━━━━━━━━━━\u001b[0m\u001b[37m\u001b[0m \u001b[1m1s\u001b[0m 3ms/step - accuracy: 0.7273 - loss: 0.4497 - val_accuracy: 0.7264 - val_loss: 0.4542\n",
      "Epoch 38/50\n",
      "\u001b[1m253/253\u001b[0m \u001b[32m━━━━━━━━━━━━━━━━━━━━\u001b[0m\u001b[37m\u001b[0m \u001b[1m1s\u001b[0m 3ms/step - accuracy: 0.7302 - loss: 0.4459 - val_accuracy: 0.7264 - val_loss: 0.4580\n",
      "Epoch 39/50\n",
      "\u001b[1m253/253\u001b[0m \u001b[32m━━━━━━━━━━━━━━━━━━━━\u001b[0m\u001b[37m\u001b[0m \u001b[1m1s\u001b[0m 4ms/step - accuracy: 0.7236 - loss: 0.4461 - val_accuracy: 0.7264 - val_loss: 0.4546\n",
      "Epoch 40/50\n",
      "\u001b[1m253/253\u001b[0m \u001b[32m━━━━━━━━━━━━━━━━━━━━\u001b[0m\u001b[37m\u001b[0m \u001b[1m1s\u001b[0m 3ms/step - accuracy: 0.7376 - loss: 0.4422 - val_accuracy: 0.7264 - val_loss: 0.4559\n",
      "Epoch 41/50\n",
      "\u001b[1m253/253\u001b[0m \u001b[32m━━━━━━━━━━━━━━━━━━━━\u001b[0m\u001b[37m\u001b[0m \u001b[1m1s\u001b[0m 3ms/step - accuracy: 0.7294 - loss: 0.4447 - val_accuracy: 0.7264 - val_loss: 0.4530\n",
      "Epoch 42/50\n",
      "\u001b[1m253/253\u001b[0m \u001b[32m━━━━━━━━━━━━━━━━━━━━\u001b[0m\u001b[37m\u001b[0m \u001b[1m1s\u001b[0m 3ms/step - accuracy: 0.7322 - loss: 0.4430 - val_accuracy: 0.7264 - val_loss: 0.4538\n",
      "Epoch 43/50\n",
      "\u001b[1m253/253\u001b[0m \u001b[32m━━━━━━━━━━━━━━━━━━━━\u001b[0m\u001b[37m\u001b[0m \u001b[1m1s\u001b[0m 3ms/step - accuracy: 0.7282 - loss: 0.4417 - val_accuracy: 0.7264 - val_loss: 0.4530\n",
      "Epoch 44/50\n",
      "\u001b[1m253/253\u001b[0m \u001b[32m━━━━━━━━━━━━━━━━━━━━\u001b[0m\u001b[37m\u001b[0m \u001b[1m1s\u001b[0m 3ms/step - accuracy: 0.7348 - loss: 0.4471 - val_accuracy: 0.7264 - val_loss: 0.4548\n",
      "Epoch 45/50\n",
      "\u001b[1m253/253\u001b[0m \u001b[32m━━━━━━━━━━━━━━━━━━━━\u001b[0m\u001b[37m\u001b[0m \u001b[1m1s\u001b[0m 4ms/step - accuracy: 0.7246 - loss: 0.4492 - val_accuracy: 0.7264 - val_loss: 0.4549\n",
      "Epoch 46/50\n",
      "\u001b[1m253/253\u001b[0m \u001b[32m━━━━━━━━━━━━━━━━━━━━\u001b[0m\u001b[37m\u001b[0m \u001b[1m1s\u001b[0m 3ms/step - accuracy: 0.7227 - loss: 0.4491 - val_accuracy: 0.7264 - val_loss: 0.4541\n",
      "Epoch 47/50\n",
      "\u001b[1m253/253\u001b[0m \u001b[32m━━━━━━━━━━━━━━━━━━━━\u001b[0m\u001b[37m\u001b[0m \u001b[1m1s\u001b[0m 4ms/step - accuracy: 0.7247 - loss: 0.4482 - val_accuracy: 0.7264 - val_loss: 0.4540\n",
      "Epoch 48/50\n",
      "\u001b[1m253/253\u001b[0m \u001b[32m━━━━━━━━━━━━━━━━━━━━\u001b[0m\u001b[37m\u001b[0m \u001b[1m1s\u001b[0m 4ms/step - accuracy: 0.7317 - loss: 0.4428 - val_accuracy: 0.7264 - val_loss: 0.4526\n",
      "Epoch 49/50\n",
      "\u001b[1m253/253\u001b[0m \u001b[32m━━━━━━━━━━━━━━━━━━━━\u001b[0m\u001b[37m\u001b[0m \u001b[1m1s\u001b[0m 4ms/step - accuracy: 0.7346 - loss: 0.4425 - val_accuracy: 0.7264 - val_loss: 0.4536\n",
      "Epoch 50/50\n",
      "\u001b[1m253/253\u001b[0m \u001b[32m━━━━━━━━━━━━━━━━━━━━\u001b[0m\u001b[37m\u001b[0m \u001b[1m1s\u001b[0m 4ms/step - accuracy: 0.7317 - loss: 0.4430 - val_accuracy: 0.7264 - val_loss: 0.4528\n"
     ]
    }
   ],
   "source": [
    "history = modelANN.fit(X_train, y_train_ann, \n",
    "                    epochs=50, \n",
    "                    batch_size=32, \n",
    "                    validation_split=0.2)"
   ]
  },
  {
   "cell_type": "code",
   "execution_count": 37,
   "metadata": {},
   "outputs": [
    {
     "name": "stdout",
     "output_type": "stream",
     "text": [
      "\u001b[1m79/79\u001b[0m \u001b[32m━━━━━━━━━━━━━━━━━━━━\u001b[0m\u001b[37m\u001b[0m \u001b[1m0s\u001b[0m 2ms/step - accuracy: 0.7241 - loss: 0.4358\n",
      "Test Accuracy: 0.73\n"
     ]
    }
   ],
   "source": [
    "loss, accuracy = modelANN.evaluate(X_test, y_test_ann)\n",
    "print(f\"Test Accuracy: {accuracy:.2f}\")"
   ]
  },
  {
   "cell_type": "code",
   "execution_count": 38,
   "metadata": {},
   "outputs": [
    {
     "name": "stdout",
     "output_type": "stream",
     "text": [
      "\u001b[1m79/79\u001b[0m \u001b[32m━━━━━━━━━━━━━━━━━━━━\u001b[0m\u001b[37m\u001b[0m \u001b[1m0s\u001b[0m 3ms/step\n"
     ]
    }
   ],
   "source": [
    "ann_predict = modelANN.predict(X_test)"
   ]
  },
  {
   "cell_type": "code",
   "execution_count": 39,
   "metadata": {},
   "outputs": [],
   "source": [
    "import numpy as np\n",
    "\n",
    "y_predict_classes = np.argmax(ann_predict, axis=1)"
   ]
  },
  {
   "cell_type": "code",
   "execution_count": 40,
   "metadata": {},
   "outputs": [
    {
     "name": "stdout",
     "output_type": "stream",
     "text": [
      "Predictions:  [1 2 1 0 0 2 1 2 2 1 0 2 2 1 0 0 0 2 1 1]\n"
     ]
    }
   ],
   "source": [
    "print(\"Predictions: \", y_predict_classes[:20])  # Tampilkan 10 prediksi pertama"
   ]
  },
  {
   "cell_type": "code",
   "execution_count": 41,
   "metadata": {},
   "outputs": [],
   "source": [
    "y_test_labels = np.argmax(y_test_ann, axis=1)\n",
    "y_pred_labels = np.argmax(ann_predict, axis=1)"
   ]
  },
  {
   "cell_type": "code",
   "execution_count": 42,
   "metadata": {},
   "outputs": [],
   "source": [
    "df_hasilnn = X_test.copy()\n",
    "df_hasilnn['Label asli'] = y_test_labels\n",
    "df_hasilnn['Label prediksi'] = y_pred_labels"
   ]
  },
  {
   "cell_type": "code",
   "execution_count": 43,
   "metadata": {},
   "outputs": [
    {
     "name": "stdout",
     "output_type": "stream",
     "text": [
      "       social  finance  health  Label asli  Label prediksi  Prediksi benar\n",
      "9234        0        0       2           1               1            True\n",
      "11965       2        1       1           2               2            True\n",
      "4530        2        1       2           1               1            True\n",
      "11732       2        1       0           0               0            True\n",
      "8441        1        1       0           0               0            True\n",
      "11107       0        0       1           2               2            True\n",
      "7272        0        0       2           2               1           False\n",
      "12532       2        0       1           2               2            True\n",
      "1057        2        1       1           1               2           False\n",
      "1707        1        1       2           1               1            True\n",
      "1817        1        1       0           0               0            True\n",
      "8152        1        1       1           2               2            True\n",
      "10081       0        0       1           2               2            True\n",
      "11493       0        1       2           2               1           False\n",
      "10460       0        0       0           0               0            True\n",
      "12347       1        1       0           0               0            True\n",
      "8591        2        0       0           0               0            True\n",
      "2464        1        1       1           1               2           False\n",
      "5532        1        0       2           1               1            True\n",
      "3324        2        1       2           1               1            True\n",
      "Jumlah hasil prediksi yang benar adalah 1836\n"
     ]
    }
   ],
   "source": [
    "df_hasilnn['Prediksi benar'] = df_hasilnn['Label asli'] == df_hasilnn['Label prediksi']\n",
    "prediksi_benarnn = df_hasilnn['Prediksi benar'].sum()\n",
    "\n",
    "print(df_hasilnn.head(20))\n",
    "print(f'Jumlah hasil prediksi yang benar adalah {prediksi_benarnn}')"
   ]
  },
  {
   "cell_type": "code",
   "execution_count": 44,
   "metadata": {},
   "outputs": [
    {
     "name": "stdout",
     "output_type": "stream",
     "text": [
      "Accuracy Score: 0.7268408551068883\n",
      "Classification Report:\n",
      "               precision    recall  f1-score   support\n",
      "\n",
      "           0       1.00      1.00      1.00       896\n",
      "           1       0.61      0.55      0.58       861\n",
      "           2       0.55      0.60      0.57       769\n",
      "\n",
      "    accuracy                           0.73      2526\n",
      "   macro avg       0.72      0.72      0.72      2526\n",
      "weighted avg       0.73      0.73      0.73      2526\n",
      "\n",
      "Confusion Matrix:\n",
      " [[896   0   0]\n",
      " [  0 476 385]\n",
      " [  0 305 464]]\n"
     ]
    }
   ],
   "source": [
    "print(f\"Accuracy Score: {accuracy_score(y_test_labels, y_pred_labels)}\")\n",
    "print(f\"Classification Report:\\n {classification_report(y_test_labels, y_pred_labels)}\")\n",
    "print(f\"Confusion Matrix:\\n {confusion_matrix(y_test_labels, y_pred_labels)}\")"
   ]
  },
  {
   "cell_type": "markdown",
   "metadata": {},
   "source": [
    "## Preprocessing PCA"
   ]
  },
  {
   "cell_type": "markdown",
   "metadata": {},
   "source": [
    "*encoding*"
   ]
  },
  {
   "cell_type": "code",
   "execution_count": 45,
   "metadata": {},
   "outputs": [
    {
     "data": {
      "text/html": [
       "<div>\n",
       "<style scoped>\n",
       "    .dataframe tbody tr th:only-of-type {\n",
       "        vertical-align: middle;\n",
       "    }\n",
       "\n",
       "    .dataframe tbody tr th {\n",
       "        vertical-align: top;\n",
       "    }\n",
       "\n",
       "    .dataframe thead th {\n",
       "        text-align: right;\n",
       "    }\n",
       "</style>\n",
       "<table border=\"1\" class=\"dataframe\">\n",
       "  <thead>\n",
       "    <tr style=\"text-align: right;\">\n",
       "      <th></th>\n",
       "      <th>parents</th>\n",
       "      <th>has_nurs</th>\n",
       "      <th>form</th>\n",
       "      <th>children</th>\n",
       "      <th>housing</th>\n",
       "      <th>finance</th>\n",
       "      <th>social</th>\n",
       "      <th>health</th>\n",
       "      <th>class</th>\n",
       "    </tr>\n",
       "  </thead>\n",
       "  <tbody>\n",
       "    <tr>\n",
       "      <th>0</th>\n",
       "      <td>2</td>\n",
       "      <td>3</td>\n",
       "      <td>0</td>\n",
       "      <td>0</td>\n",
       "      <td>0</td>\n",
       "      <td>0</td>\n",
       "      <td>0</td>\n",
       "      <td>2</td>\n",
       "      <td>2</td>\n",
       "    </tr>\n",
       "    <tr>\n",
       "      <th>1</th>\n",
       "      <td>2</td>\n",
       "      <td>3</td>\n",
       "      <td>0</td>\n",
       "      <td>0</td>\n",
       "      <td>0</td>\n",
       "      <td>0</td>\n",
       "      <td>0</td>\n",
       "      <td>1</td>\n",
       "      <td>1</td>\n",
       "    </tr>\n",
       "    <tr>\n",
       "      <th>2</th>\n",
       "      <td>2</td>\n",
       "      <td>3</td>\n",
       "      <td>0</td>\n",
       "      <td>0</td>\n",
       "      <td>0</td>\n",
       "      <td>0</td>\n",
       "      <td>0</td>\n",
       "      <td>0</td>\n",
       "      <td>0</td>\n",
       "    </tr>\n",
       "    <tr>\n",
       "      <th>3</th>\n",
       "      <td>2</td>\n",
       "      <td>3</td>\n",
       "      <td>0</td>\n",
       "      <td>0</td>\n",
       "      <td>0</td>\n",
       "      <td>0</td>\n",
       "      <td>2</td>\n",
       "      <td>2</td>\n",
       "      <td>2</td>\n",
       "    </tr>\n",
       "    <tr>\n",
       "      <th>4</th>\n",
       "      <td>2</td>\n",
       "      <td>3</td>\n",
       "      <td>0</td>\n",
       "      <td>0</td>\n",
       "      <td>0</td>\n",
       "      <td>0</td>\n",
       "      <td>2</td>\n",
       "      <td>1</td>\n",
       "      <td>1</td>\n",
       "    </tr>\n",
       "  </tbody>\n",
       "</table>\n",
       "</div>"
      ],
      "text/plain": [
       "   parents  has_nurs  form  children  housing  finance  social  health  class\n",
       "0        2         3     0         0        0        0       0       2      2\n",
       "1        2         3     0         0        0        0       0       1      1\n",
       "2        2         3     0         0        0        0       0       0      0\n",
       "3        2         3     0         0        0        0       2       2      2\n",
       "4        2         3     0         0        0        0       2       1      1"
      ]
     },
     "execution_count": 45,
     "metadata": {},
     "output_type": "execute_result"
    }
   ],
   "source": [
    "# Encode semua kolom\n",
    "le = LabelEncoder()\n",
    "for col in df.columns:\n",
    "    df[col] = le.fit_transform(df[col])\n",
    "\n",
    "df.head()"
   ]
  },
  {
   "cell_type": "markdown",
   "metadata": {},
   "source": [
    "*data splitting*"
   ]
  },
  {
   "cell_type": "code",
   "execution_count": 46,
   "metadata": {},
   "outputs": [
    {
     "name": "stdout",
     "output_type": "stream",
     "text": [
      "Data Training:  (10368, 8)\n",
      "Data Testing:  (2592, 8)\n"
     ]
    }
   ],
   "source": [
    "X2 = df.drop(columns=['class'])  # Semua fitur kecuali 'class'\n",
    "y2 = df['class']                 # Target\n",
    "\n",
    "X_train2, X_test2, y_train2, y_test2 = train_test_split(X2, y2, test_size=0.2, random_state=42)\n",
    "\n",
    "print(\"Data Training: \", X_train2.shape)\n",
    "print(\"Data Testing: \", X_test2.shape)"
   ]
  },
  {
   "cell_type": "markdown",
   "metadata": {},
   "source": [
    "*menentukan atribut pca*"
   ]
  },
  {
   "cell_type": "code",
   "execution_count": 47,
   "metadata": {},
   "outputs": [
    {
     "data": {
      "text/plain": [
       "array([[-1.98497442,  0.71286742, -0.1479329 ,  0.23596993, -0.40607873,\n",
       "         0.74420362],\n",
       "       [ 2.02994841,  0.49045403,  2.05978838, -0.35596421, -0.80343002,\n",
       "        -1.44208082],\n",
       "       [-1.97577936,  1.04894903,  1.21363214,  0.91990725,  0.76928533,\n",
       "        -0.1276976 ],\n",
       "       ...,\n",
       "       [-0.00725245, -2.05869464,  0.51942085, -0.53214721, -0.38625242,\n",
       "        -0.62119099],\n",
       "       [ 1.01648895, -0.35139351,  1.55037133, -0.28039433, -0.76323714,\n",
       "         0.12321463],\n",
       "       [-2.0035363 , -0.66447437,  0.19081325, -0.41223272,  0.82697987,\n",
       "         0.09231828]])"
      ]
     },
     "execution_count": 47,
     "metadata": {},
     "output_type": "execute_result"
    }
   ],
   "source": [
    "from sklearn.decomposition import PCA\n",
    "\n",
    "pca = PCA(n_components=0.85)\n",
    "Xtrain_pca = pca.fit_transform(X_train2)\n",
    "Xtrain_pca"
   ]
  },
  {
   "cell_type": "code",
   "execution_count": 48,
   "metadata": {},
   "outputs": [],
   "source": [
    "Xtest_pca = pca.transform(X_test2)"
   ]
  },
  {
   "cell_type": "markdown",
   "metadata": {},
   "source": [
    "## Modelling SVM dengan PCA"
   ]
  },
  {
   "cell_type": "markdown",
   "metadata": {},
   "source": [
    "*svm linear*"
   ]
  },
  {
   "cell_type": "code",
   "execution_count": 49,
   "metadata": {},
   "outputs": [],
   "source": [
    "from sklearn.svm import SVC\n",
    "\n",
    "pcalin_model = SVC(kernel='linear', decision_function_shape='ovo')\n",
    "pcalin_model.fit(Xtrain_pca, y_train2)\n",
    "pcalin_predict = pcalin_model.predict(Xtest_pca)"
   ]
  },
  {
   "cell_type": "code",
   "execution_count": 50,
   "metadata": {},
   "outputs": [],
   "source": [
    "df_hasil_pcalin = pd.DataFrame(Xtest_pca, columns=[f'PC{i+1}' for i in range(Xtest_pca.shape[1])])\n",
    "df_hasil_pcalin['Label asli'] = y_test2.values\n",
    "df_hasil_pcalin['Label prediksi'] = pcalin_predict"
   ]
  },
  {
   "cell_type": "code",
   "execution_count": 51,
   "metadata": {},
   "outputs": [
    {
     "name": "stdout",
     "output_type": "stream",
     "text": [
      "         PC1       PC2       PC3       PC4       PC5       PC6  Label asli  \\\n",
      "0  -1.003883 -0.676951  0.195643 -0.957584  0.455575 -0.539710           0   \n",
      "1  -1.007163  0.365910 -1.528894  0.358484  0.381674 -0.784352           3   \n",
      "2   0.991934 -0.170556 -0.690842  0.200728  0.835989  0.043029           1   \n",
      "3   1.998768 -1.216518  1.010093 -0.221034  0.400535 -0.736360           3   \n",
      "4  -0.988287  1.219637 -0.997608 -0.318605 -0.779541  0.103346           0   \n",
      "5  -1.003010  0.374555 -1.541931  0.164982 -0.033496  1.388505           1   \n",
      "6   2.017391  2.044126 -0.503789 -0.187016  0.029173 -1.415581           0   \n",
      "7  -2.019174 -0.981818 -1.195880  1.963624 -0.084669 -0.262834           1   \n",
      "8  -1.002749 -2.042783  0.499872  0.185530 -0.036687  1.411964           1   \n",
      "9  -0.014395 -0.503804 -2.058831 -0.809716  0.423663  0.837643           1   \n",
      "10  0.027121  1.552960  0.354087  0.414529 -0.835348 -0.083653           1   \n",
      "11  1.020956  1.533428  0.344968  0.190041  0.844762  0.050449           1   \n",
      "12  0.984894 -0.501638 -2.053152  0.482360 -1.226098 -0.766168           0   \n",
      "13  0.992645 -2.067876  0.510385 -0.531033 -0.382846 -0.624275           0   \n",
      "14  2.007731  1.202472 -1.050673  1.329325 -0.065179 -0.245372           1   \n",
      "15 -1.995909  0.195425  0.696932  1.126027  1.605335 -0.078645           1   \n",
      "16 -0.012182 -2.048112  0.508049  0.641472 -0.007274 -0.023907           1   \n",
      "17 -0.987289  0.193739  0.685399  1.963275 -0.070432 -0.249669           4   \n",
      "18 -0.994920 -0.660950  0.180963  0.059187 -1.242118  0.693024           3   \n",
      "19  0.003191  0.688582 -0.161691 -0.665120  1.233581 -0.660171           3   \n",
      "\n",
      "    Label prediksi  Prediksi benar  \n",
      "0                0            True  \n",
      "1                1           False  \n",
      "2                1            True  \n",
      "3                0           False  \n",
      "4                3           False  \n",
      "5                1            True  \n",
      "6                0            True  \n",
      "7                1            True  \n",
      "8                1            True  \n",
      "9                3           False  \n",
      "10               3           False  \n",
      "11               3           False  \n",
      "12               0            True  \n",
      "13               0            True  \n",
      "14               1            True  \n",
      "15               1            True  \n",
      "16               1            True  \n",
      "17               1           False  \n",
      "18               3            True  \n",
      "19               3            True  \n",
      "Jumlah hasil prediksi yang benar adalah 1809\n"
     ]
    }
   ],
   "source": [
    "df_hasil_pcalin['Prediksi benar'] = df_hasil_pcalin['Label asli'] == df_hasil_pcalin['Label prediksi']\n",
    "prediksi_benar_pcalin = df_hasil_pcalin['Prediksi benar'].sum()\n",
    "\n",
    "print(df_hasil_pcalin.head(20))\n",
    "print(f'Jumlah hasil prediksi yang benar adalah {prediksi_benar_pcalin}')"
   ]
  },
  {
   "cell_type": "code",
   "execution_count": 52,
   "metadata": {},
   "outputs": [],
   "source": [
    "# df_hasil_pcalin.to_csv('Hasil_prediksiSVM_Linear_pca.csv', index='False')"
   ]
  },
  {
   "cell_type": "code",
   "execution_count": 53,
   "metadata": {},
   "outputs": [
    {
     "name": "stdout",
     "output_type": "stream",
     "text": [
      "Accuracy Score: 0.6979166666666666\n",
      "Classification Report:\n",
      "               precision    recall  f1-score   support\n",
      "\n",
      "           0       0.88      0.89      0.88       870\n",
      "           1       0.64      0.70      0.67       873\n",
      "           2       0.00      0.00      0.00         2\n",
      "           3       0.56      0.55      0.55       785\n",
      "           4       0.00      0.00      0.00        62\n",
      "\n",
      "    accuracy                           0.70      2592\n",
      "   macro avg       0.42      0.43      0.42      2592\n",
      "weighted avg       0.68      0.70      0.69      2592\n",
      "\n",
      "Confusion Matrix:\n",
      " [[772   0   0  98   0]\n",
      " [ 22 607   0 244   0]\n",
      " [  0   2   0   0   0]\n",
      " [ 81 274   0 430   0]\n",
      " [  0  62   0   0   0]]\n"
     ]
    },
    {
     "name": "stderr",
     "output_type": "stream",
     "text": [
      "C:\\Users\\edwin\\AppData\\Local\\Packages\\PythonSoftwareFoundation.Python.3.10_qbz5n2kfra8p0\\LocalCache\\local-packages\\Python310\\site-packages\\sklearn\\metrics\\_classification.py:1531: UndefinedMetricWarning: Precision is ill-defined and being set to 0.0 in labels with no predicted samples. Use `zero_division` parameter to control this behavior.\n",
      "  _warn_prf(average, modifier, f\"{metric.capitalize()} is\", len(result))\n",
      "C:\\Users\\edwin\\AppData\\Local\\Packages\\PythonSoftwareFoundation.Python.3.10_qbz5n2kfra8p0\\LocalCache\\local-packages\\Python310\\site-packages\\sklearn\\metrics\\_classification.py:1531: UndefinedMetricWarning: Precision is ill-defined and being set to 0.0 in labels with no predicted samples. Use `zero_division` parameter to control this behavior.\n",
      "  _warn_prf(average, modifier, f\"{metric.capitalize()} is\", len(result))\n",
      "C:\\Users\\edwin\\AppData\\Local\\Packages\\PythonSoftwareFoundation.Python.3.10_qbz5n2kfra8p0\\LocalCache\\local-packages\\Python310\\site-packages\\sklearn\\metrics\\_classification.py:1531: UndefinedMetricWarning: Precision is ill-defined and being set to 0.0 in labels with no predicted samples. Use `zero_division` parameter to control this behavior.\n",
      "  _warn_prf(average, modifier, f\"{metric.capitalize()} is\", len(result))\n"
     ]
    }
   ],
   "source": [
    "from sklearn.metrics import accuracy_score, classification_report, confusion_matrix\n",
    "\n",
    "print(f\"Accuracy Score: {accuracy_score(y_test2, pcalin_predict)}\")\n",
    "print(f\"Classification Report:\\n {classification_report(y_test2, pcalin_predict)}\")\n",
    "print(f\"Confusion Matrix:\\n {confusion_matrix(y_test2, pcalin_predict)}\")"
   ]
  },
  {
   "cell_type": "code",
   "execution_count": 54,
   "metadata": {},
   "outputs": [
    {
     "name": "stderr",
     "output_type": "stream",
     "text": [
      "C:\\Users\\edwin\\AppData\\Local\\Packages\\PythonSoftwareFoundation.Python.3.10_qbz5n2kfra8p0\\LocalCache\\local-packages\\Python310\\site-packages\\sklearn\\model_selection\\_split.py:776: UserWarning: The least populated class in y has only 2 members, which is less than n_splits=5.\n",
      "  warnings.warn(\n"
     ]
    },
    {
     "name": "stdout",
     "output_type": "stream",
     "text": [
      "Cross Validation Score:  [0.67052469 0.76080247 0.77121914 0.84104938 0.64544753]\n",
      "Rata Rata Accuracy: 0.74\n",
      "Standar Deviasi: 0.07\n"
     ]
    }
   ],
   "source": [
    "from sklearn.model_selection import StratifiedKFold, cross_val_score\n",
    "\n",
    "sk_fold = StratifiedKFold(n_splits=5)\n",
    "scores = cross_val_score(pcalin_model, X2, y2, cv=sk_fold)\n",
    "\n",
    "print(f\"Cross Validation Score: \", scores)\n",
    "print(f\"Rata Rata Accuracy: {scores.mean():.2f}\")\n",
    "print(f\"Standar Deviasi: {scores.std():.2f}\")"
   ]
  },
  {
   "cell_type": "markdown",
   "metadata": {},
   "source": [
    "*svm rbf*"
   ]
  },
  {
   "cell_type": "code",
   "execution_count": 55,
   "metadata": {},
   "outputs": [],
   "source": [
    "from sklearn.svm import SVC\n",
    "\n",
    "pcarbf_model = SVC(kernel='rbf', decision_function_shape='ovo')\n",
    "pcarbf_model.fit(Xtrain_pca, y_train2)\n",
    "pcarbf_predict = pcarbf_model.predict(Xtest_pca)"
   ]
  },
  {
   "cell_type": "code",
   "execution_count": 56,
   "metadata": {},
   "outputs": [],
   "source": [
    "df_hasil_pcarbf = pd.DataFrame(Xtest_pca, columns=[f'PC{i+1}' for i in range(Xtest_pca.shape[1])])\n",
    "df_hasil_pcarbf['Label asli'] = y_test2.values\n",
    "df_hasil_pcarbf['Label prediksi'] = pcarbf_predict"
   ]
  },
  {
   "cell_type": "code",
   "execution_count": 57,
   "metadata": {},
   "outputs": [
    {
     "name": "stdout",
     "output_type": "stream",
     "text": [
      "         PC1       PC2       PC3       PC4       PC5       PC6  Label asli  \\\n",
      "0  -1.003883 -0.676951  0.195643 -0.957584  0.455575 -0.539710           0   \n",
      "1  -1.007163  0.365910 -1.528894  0.358484  0.381674 -0.784352           3   \n",
      "2   0.991934 -0.170556 -0.690842  0.200728  0.835989  0.043029           1   \n",
      "3   1.998768 -1.216518  1.010093 -0.221034  0.400535 -0.736360           3   \n",
      "4  -0.988287  1.219637 -0.997608 -0.318605 -0.779541  0.103346           0   \n",
      "5  -1.003010  0.374555 -1.541931  0.164982 -0.033496  1.388505           1   \n",
      "6   2.017391  2.044126 -0.503789 -0.187016  0.029173 -1.415581           0   \n",
      "7  -2.019174 -0.981818 -1.195880  1.963624 -0.084669 -0.262834           1   \n",
      "8  -1.002749 -2.042783  0.499872  0.185530 -0.036687  1.411964           1   \n",
      "9  -0.014395 -0.503804 -2.058831 -0.809716  0.423663  0.837643           1   \n",
      "10  0.027121  1.552960  0.354087  0.414529 -0.835348 -0.083653           1   \n",
      "11  1.020956  1.533428  0.344968  0.190041  0.844762  0.050449           1   \n",
      "12  0.984894 -0.501638 -2.053152  0.482360 -1.226098 -0.766168           0   \n",
      "13  0.992645 -2.067876  0.510385 -0.531033 -0.382846 -0.624275           0   \n",
      "14  2.007731  1.202472 -1.050673  1.329325 -0.065179 -0.245372           1   \n",
      "15 -1.995909  0.195425  0.696932  1.126027  1.605335 -0.078645           1   \n",
      "16 -0.012182 -2.048112  0.508049  0.641472 -0.007274 -0.023907           1   \n",
      "17 -0.987289  0.193739  0.685399  1.963275 -0.070432 -0.249669           4   \n",
      "18 -0.994920 -0.660950  0.180963  0.059187 -1.242118  0.693024           3   \n",
      "19  0.003191  0.688582 -0.161691 -0.665120  1.233581 -0.660171           3   \n",
      "\n",
      "    Label prediksi  Prediksi benar  \n",
      "0                0            True  \n",
      "1                1           False  \n",
      "2                1            True  \n",
      "3                0           False  \n",
      "4                0            True  \n",
      "5                1            True  \n",
      "6                0            True  \n",
      "7                1            True  \n",
      "8                1            True  \n",
      "9                1            True  \n",
      "10               1            True  \n",
      "11               1            True  \n",
      "12               0            True  \n",
      "13               0            True  \n",
      "14               3           False  \n",
      "15               1            True  \n",
      "16               1            True  \n",
      "17               1           False  \n",
      "18               1           False  \n",
      "19               3            True  \n",
      "Jumlah hasil prediksi yang benar adalah 2172\n"
     ]
    }
   ],
   "source": [
    "df_hasil_pcarbf['Prediksi benar'] = df_hasil_pcarbf['Label asli'] == df_hasil_pcarbf['Label prediksi']\n",
    "prediksi_benar_pcarbf = df_hasil_pcarbf['Prediksi benar'].sum()\n",
    "\n",
    "print(df_hasil_pcarbf.head(20))\n",
    "print(f'Jumlah hasil prediksi yang benar adalah {prediksi_benar_pcarbf}')"
   ]
  },
  {
   "cell_type": "code",
   "execution_count": 58,
   "metadata": {},
   "outputs": [],
   "source": [
    "# df_hasil_pcarbf.to_csv('Hasil_prediksiSVM_rbf_pca.csv', index='False')"
   ]
  },
  {
   "cell_type": "code",
   "execution_count": 59,
   "metadata": {},
   "outputs": [
    {
     "name": "stdout",
     "output_type": "stream",
     "text": [
      "Accuracy Score: 0.8379629629629629\n",
      "Classification Report:\n",
      "               precision    recall  f1-score   support\n",
      "\n",
      "           0       0.87      0.93      0.90       870\n",
      "           1       0.85      0.84      0.85       873\n",
      "           2       0.00      0.00      0.00         2\n",
      "           3       0.79      0.79      0.79       785\n",
      "           4       0.80      0.06      0.12        62\n",
      "\n",
      "    accuracy                           0.84      2592\n",
      "   macro avg       0.66      0.53      0.53      2592\n",
      "weighted avg       0.84      0.84      0.83      2592\n",
      "\n",
      "Confusion Matrix:\n",
      " [[813   0   0  57   0]\n",
      " [ 25 736   0 112   0]\n",
      " [  0   1   0   0   1]\n",
      " [ 98  68   0 619   0]\n",
      " [  0  58   0   0   4]]\n"
     ]
    },
    {
     "name": "stderr",
     "output_type": "stream",
     "text": [
      "C:\\Users\\edwin\\AppData\\Local\\Packages\\PythonSoftwareFoundation.Python.3.10_qbz5n2kfra8p0\\LocalCache\\local-packages\\Python310\\site-packages\\sklearn\\metrics\\_classification.py:1531: UndefinedMetricWarning: Precision is ill-defined and being set to 0.0 in labels with no predicted samples. Use `zero_division` parameter to control this behavior.\n",
      "  _warn_prf(average, modifier, f\"{metric.capitalize()} is\", len(result))\n",
      "C:\\Users\\edwin\\AppData\\Local\\Packages\\PythonSoftwareFoundation.Python.3.10_qbz5n2kfra8p0\\LocalCache\\local-packages\\Python310\\site-packages\\sklearn\\metrics\\_classification.py:1531: UndefinedMetricWarning: Precision is ill-defined and being set to 0.0 in labels with no predicted samples. Use `zero_division` parameter to control this behavior.\n",
      "  _warn_prf(average, modifier, f\"{metric.capitalize()} is\", len(result))\n",
      "C:\\Users\\edwin\\AppData\\Local\\Packages\\PythonSoftwareFoundation.Python.3.10_qbz5n2kfra8p0\\LocalCache\\local-packages\\Python310\\site-packages\\sklearn\\metrics\\_classification.py:1531: UndefinedMetricWarning: Precision is ill-defined and being set to 0.0 in labels with no predicted samples. Use `zero_division` parameter to control this behavior.\n",
      "  _warn_prf(average, modifier, f\"{metric.capitalize()} is\", len(result))\n"
     ]
    }
   ],
   "source": [
    "from sklearn.metrics import accuracy_score, classification_report, confusion_matrix\n",
    "\n",
    "print(f\"Accuracy Score: {accuracy_score(y_test2, pcarbf_predict)}\")\n",
    "print(f\"Classification Report:\\n {classification_report(y_test2, pcarbf_predict)}\")\n",
    "print(f\"Confusion Matrix:\\n {confusion_matrix(y_test2, pcarbf_predict)}\")"
   ]
  },
  {
   "cell_type": "code",
   "execution_count": 60,
   "metadata": {},
   "outputs": [
    {
     "name": "stderr",
     "output_type": "stream",
     "text": [
      "C:\\Users\\edwin\\AppData\\Local\\Packages\\PythonSoftwareFoundation.Python.3.10_qbz5n2kfra8p0\\LocalCache\\local-packages\\Python310\\site-packages\\sklearn\\model_selection\\_split.py:776: UserWarning: The least populated class in y has only 2 members, which is less than n_splits=5.\n",
      "  warnings.warn(\n"
     ]
    },
    {
     "name": "stdout",
     "output_type": "stream",
     "text": [
      "Cross Validation Score:  [0.75270062 0.88503086 0.83912037 0.88001543 0.68325617]\n",
      "Rata Rata Accuracy: 0.81\n",
      "Standar Deviasi: 0.08\n"
     ]
    }
   ],
   "source": [
    "from sklearn.model_selection import StratifiedKFold, cross_val_score\n",
    "\n",
    "sk_fold = StratifiedKFold(n_splits=5)\n",
    "scores = cross_val_score(pcarbf_model, X2, y2, cv=sk_fold)\n",
    "\n",
    "print(f\"Cross Validation Score: \", scores)\n",
    "print(f\"Rata Rata Accuracy: {scores.mean():.2f}\")\n",
    "print(f\"Standar Deviasi: {scores.std():.2f}\")"
   ]
  }
 ],
 "metadata": {
  "kernelspec": {
   "display_name": "Python 3",
   "language": "python",
   "name": "python3"
  },
  "language_info": {
   "codemirror_mode": {
    "name": "ipython",
    "version": 3
   },
   "file_extension": ".py",
   "mimetype": "text/x-python",
   "name": "python",
   "nbconvert_exporter": "python",
   "pygments_lexer": "ipython3",
   "version": "3.10.11"
  }
 },
 "nbformat": 4,
 "nbformat_minor": 2
}
